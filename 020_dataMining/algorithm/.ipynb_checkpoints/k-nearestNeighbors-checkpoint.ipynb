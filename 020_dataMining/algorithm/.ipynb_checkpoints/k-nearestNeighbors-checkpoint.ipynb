{
 "cells": [
  {
   "cell_type": "markdown",
   "metadata": {},
   "source": [
    "# KNN"
   ]
  },
  {
   "cell_type": "code",
   "execution_count": 1,
   "metadata": {},
   "outputs": [],
   "source": [
    "import numpy as np\n",
    "import matplotlib.pyplot as plt"
   ]
  },
  {
   "cell_type": "code",
   "execution_count": 17,
   "metadata": {},
   "outputs": [
    {
     "data": {
      "text/plain": [
       "array([[0.60020742, 6.67323716],\n",
       "       [2.40933549, 7.54344126],\n",
       "       [7.98105779, 9.01605135],\n",
       "       [8.98675935, 9.81324499],\n",
       "       [1.57144994, 8.56528411],\n",
       "       [4.48646042, 6.40691499],\n",
       "       [0.58209008, 0.40128997],\n",
       "       [5.53694984, 5.13722094],\n",
       "       [2.46475335, 5.96115609],\n",
       "       [8.61277779, 0.8541728 ]])"
      ]
     },
     "execution_count": 17,
     "metadata": {},
     "output_type": "execute_result"
    }
   ],
   "source": [
    "data_x = np.random.random(20)*10\n",
    "raw_data_x = data_x.reshape(10,-1)\n",
    "raw_data_x"
   ]
  },
  {
   "cell_type": "code",
   "execution_count": 18,
   "metadata": {},
   "outputs": [
    {
     "data": {
      "text/plain": [
       "array([0., 0., 0., 0., 0., 1., 1., 1., 1., 1.])"
      ]
     },
     "execution_count": 18,
     "metadata": {},
     "output_type": "execute_result"
    }
   ],
   "source": [
    "data_y1 = np.zeros(5)\n",
    "data_y2 = np.ones(5)\n",
    "raw_data_y = np.append(data_y1,data_y2)\n",
    "raw_data_y"
   ]
  },
  {
   "cell_type": "code",
   "execution_count": 19,
   "metadata": {},
   "outputs": [],
   "source": [
    "x_train = raw_data_x\n",
    "y_train = raw_data_y"
   ]
  },
  {
   "cell_type": "code",
   "execution_count": 37,
   "metadata": {},
   "outputs": [
    {
     "data": {
      "text/plain": [
       "array([0.60020742, 2.40933549, 7.98105779, 8.98675935, 1.57144994])"
      ]
     },
     "execution_count": 37,
     "metadata": {},
     "output_type": "execute_result"
    }
   ],
   "source": [
    "# x_train[:,1:2]\n",
    "\n",
    "# plt.scatter(x_train[:,:1],x_train[:,1:2])\n",
    "# x_train[y_train==0,0]\n",
    "plt.scatter(x_train[y_train==0,0],x_train[y_train==0,1],color = \"g\")\n",
    "plt.scatter(x_train[y_train==1,0],x_train[y_train==1,1],color = \"r\")"
   ]
  },
  {
   "cell_type": "code",
   "execution_count": null,
   "metadata": {},
   "outputs": [],
   "source": []
  }
 ],
 "metadata": {
  "kernelspec": {
   "display_name": "Python 3",
   "language": "python",
   "name": "python3"
  },
  "language_info": {
   "codemirror_mode": {
    "name": "ipython",
    "version": 3
   },
   "file_extension": ".py",
   "mimetype": "text/x-python",
   "name": "python",
   "nbconvert_exporter": "python",
   "pygments_lexer": "ipython3",
   "version": "3.7.4"
  }
 },
 "nbformat": 4,
 "nbformat_minor": 4
}
