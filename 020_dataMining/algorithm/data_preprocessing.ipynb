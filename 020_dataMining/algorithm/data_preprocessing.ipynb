{
 "cells": [
  {
   "cell_type": "code",
   "execution_count": 2,
   "metadata": {},
   "outputs": [],
   "source": [
    "import numpy as np\n",
    "import matplotlib.pyplot as plt"
   ]
  },
  {
   "cell_type": "markdown",
   "metadata": {},
   "source": [
    "## normalization"
   ]
  },
  {
   "cell_type": "code",
   "execution_count": 4,
   "metadata": {},
   "outputs": [
    {
     "data": {
      "text/plain": [
       "array([30, 42, 43, 89, 51, 65, 63, 52,  6, 64,  2,  3, 32, 47, 17, 83,  1,\n",
       "       67, 58, 99, 62,  9, 50, 41, 54, 34, 50, 15, 45, 77, 24, 48, 37, 72,\n",
       "       12, 32, 38, 88, 38, 83, 81,  2, 48,  9, 81, 25, 14, 78, 15, 20, 60,\n",
       "       25, 45, 21, 13, 44,  8, 23, 94,  3, 37, 22, 14, 14, 47, 98, 82, 72,\n",
       "       34, 50, 51, 27, 87, 55, 62, 85, 64, 14, 29, 87, 86, 82, 87, 92, 89,\n",
       "       63, 90, 50, 56,  3, 24, 47, 32, 76, 60, 80, 15, 37, 85, 66])"
      ]
     },
     "execution_count": 4,
     "metadata": {},
     "output_type": "execute_result"
    }
   ],
   "source": [
    "x = np.random.randint(0,100,100)\n",
    "x"
   ]
  },
  {
   "cell_type": "code",
   "execution_count": 5,
   "metadata": {},
   "outputs": [
    {
     "data": {
      "text/plain": [
       "array([-0.18193878, -0.0594898 , -0.04928571,  0.42010204,  0.03234694,\n",
       "        0.17520408,  0.15479592,  0.04255102, -0.42683673,  0.165     ,\n",
       "       -0.46765306, -0.45744898, -0.16153061, -0.00846939, -0.31459184,\n",
       "        0.35887755, -0.47785714,  0.19561224,  0.10377551,  0.52214286,\n",
       "        0.14459184, -0.39622449,  0.02214286, -0.06969388,  0.06295918,\n",
       "       -0.14112245,  0.02214286, -0.335     , -0.02887755,  0.29765306,\n",
       "       -0.24316327,  0.00173469, -0.1105102 ,  0.24663265, -0.36561224,\n",
       "       -0.16153061, -0.10030612,  0.40989796, -0.10030612,  0.35887755,\n",
       "        0.33846939, -0.46765306,  0.00173469, -0.39622449,  0.33846939,\n",
       "       -0.23295918, -0.34520408,  0.30785714, -0.335     , -0.28397959,\n",
       "        0.12418367, -0.23295918, -0.02887755, -0.27377551, -0.35540816,\n",
       "       -0.03908163, -0.40642857, -0.25336735,  0.47112245, -0.45744898,\n",
       "       -0.1105102 , -0.26357143, -0.34520408, -0.34520408, -0.00846939,\n",
       "        0.51193878,  0.34867347,  0.24663265, -0.14112245,  0.02214286,\n",
       "        0.03234694, -0.21255102,  0.39969388,  0.07316327,  0.14459184,\n",
       "        0.37928571,  0.165     , -0.34520408, -0.19214286,  0.39969388,\n",
       "        0.3894898 ,  0.34867347,  0.39969388,  0.45071429,  0.42010204,\n",
       "        0.15479592,  0.43030612,  0.02214286,  0.08336735, -0.45744898,\n",
       "       -0.24316327, -0.00846939, -0.16153061,  0.28744898,  0.12418367,\n",
       "        0.32826531, -0.335     , -0.1105102 ,  0.37928571,  0.18540816])"
      ]
     },
     "execution_count": 5,
     "metadata": {},
     "output_type": "execute_result"
    }
   ],
   "source": [
    "(x - np.mean(x))/(np.max(x)-np.min(x))"
   ]
  },
  {
   "cell_type": "code",
   "execution_count": 6,
   "metadata": {},
   "outputs": [
    {
     "data": {
      "text/plain": [
       "array([[37, 93],\n",
       "       [56,  5],\n",
       "       [33, 14],\n",
       "       [57, 89],\n",
       "       [28, 43],\n",
       "       [12, 31],\n",
       "       [ 3, 70],\n",
       "       [65, 28],\n",
       "       [59,  2],\n",
       "       [92, 92]])"
      ]
     },
     "execution_count": 6,
     "metadata": {},
     "output_type": "execute_result"
    }
   ],
   "source": [
    "X = np.random.randint(0,100,(50,2))\n",
    "X[:10,:]"
   ]
  },
  {
   "cell_type": "code",
   "execution_count": 8,
   "metadata": {},
   "outputs": [
    {
     "data": {
      "text/plain": [
       "array([[37., 93.],\n",
       "       [56.,  5.],\n",
       "       [33., 14.],\n",
       "       [57., 89.],\n",
       "       [28., 43.],\n",
       "       [12., 31.],\n",
       "       [ 3., 70.],\n",
       "       [65., 28.],\n",
       "       [59.,  2.],\n",
       "       [92., 92.]])"
      ]
     },
     "execution_count": 8,
     "metadata": {},
     "output_type": "execute_result"
    }
   ],
   "source": [
    "X = np.array(X,dtype = float)\n",
    "\n",
    "X[:10,:]"
   ]
  },
  {
   "cell_type": "code",
   "execution_count": 14,
   "metadata": {},
   "outputs": [
    {
     "data": {
      "text/plain": [
       "array([[0.36734694, 0.93814433],\n",
       "       [0.56122449, 0.03092784],\n",
       "       [0.32653061, 0.12371134],\n",
       "       [0.57142857, 0.89690722],\n",
       "       [0.2755102 , 0.42268041],\n",
       "       [0.1122449 , 0.29896907],\n",
       "       [0.02040816, 0.70103093],\n",
       "       [0.65306122, 0.26804124],\n",
       "       [0.59183673, 0.        ],\n",
       "       [0.92857143, 0.92783505]])"
      ]
     },
     "execution_count": 14,
     "metadata": {},
     "output_type": "execute_result"
    }
   ],
   "source": [
    "X[:,0] = (X[:,0]-np.min(X[:,0]))/(np.max(X[:,0]) - np.min(X[:,0]))\n",
    "X[:,1] = (X[:,1]-np.min(X[:,1]))/(np.max(X[:,1]) - np.min(X[:,1]))\n",
    "X[:10,:]"
   ]
  },
  {
   "cell_type": "code",
   "execution_count": 15,
   "metadata": {},
   "outputs": [
    {
     "data": {
      "text/plain": [
       "<matplotlib.collections.PathCollection at 0x114091f50>"
      ]
     },
     "execution_count": 15,
     "metadata": {},
     "output_type": "execute_result"
    },
    {
     "data": {
      "image/png": "[encoded data removed]",
      "text/plain": [
       "<Figure size 432x288 with 1 Axes>"
      ]
     },
     "metadata": {
      "needs_background": "light"
     },
     "output_type": "display_data"
    }
   ],
   "source": [
    "plt.scatter(X[:,0] , X[:,1])"
   ]
  },
  {
   "cell_type": "code",
   "execution_count": 16,
   "metadata": {},
   "outputs": [
    {
     "data": {
      "text/plain": [
       "0.4853061224489796"
      ]
     },
     "execution_count": 16,
     "metadata": {},
     "output_type": "execute_result"
    }
   ],
   "source": [
    "np.mean(X[:,0])"
   ]
  },
  {
   "cell_type": "code",
   "execution_count": 17,
   "metadata": {},
   "outputs": [
    {
     "data": {
      "text/plain": [
       "0.30060441681759387"
      ]
     },
     "execution_count": 17,
     "metadata": {},
     "output_type": "execute_result"
    }
   ],
   "source": [
    "np.std(X[:,0])"
   ]
  },
  {
   "cell_type": "markdown",
   "metadata": {},
   "source": [
    "## standardlization"
   ]
  },
  {
   "cell_type": "code",
   "execution_count": 19,
   "metadata": {},
   "outputs": [],
   "source": [
    "X2 = np.random.randint(0,100,(50,2))\n",
    "X2 = np.array(X,dtype = float)\n"
   ]
  },
  {
   "cell_type": "code",
   "execution_count": 20,
   "metadata": {},
   "outputs": [
    {
     "data": {
      "text/plain": [
       "<matplotlib.collections.PathCollection at 0x114091490>"
      ]
     },
     "execution_count": 20,
     "metadata": {},
     "output_type": "execute_result"
    },
    {
     "data": {
      "image/png": "[encoded data removed]",
      "text/plain": [
       "<Figure size 432x288 with 1 Axes>"
      ]
     },
     "metadata": {
      "needs_background": "light"
     },
     "output_type": "display_data"
    }
   ],
   "source": [
    "X2[:,0] = (X2[:,0] - np.mean(X2[:,0]))/ np.std(X2[:,0])\n",
    "X2[:,1] = (X2[:,1] - np.mean(X2[:,1]))/ np.std(X2[:,1])\n",
    "plt.scatter(X2[:,0] , X2[:,1])"
   ]
  },
  {
   "cell_type": "code",
   "execution_count": 21,
   "metadata": {},
   "outputs": [
    {
     "data": {
      "text/plain": [
       "7.771561172376097e-18"
      ]
     },
     "execution_count": 21,
     "metadata": {},
     "output_type": "execute_result"
    }
   ],
   "source": [
    "np.mean(X2[:,0]) #  == 0"
   ]
  },
  {
   "cell_type": "code",
   "execution_count": 22,
   "metadata": {},
   "outputs": [
    {
     "data": {
      "text/plain": [
       "1.0"
      ]
     },
     "execution_count": 22,
     "metadata": {},
     "output_type": "execute_result"
    }
   ],
   "source": [
    "np.std(X2[:,0]) # == 1"
   ]
  },
  {
   "cell_type": "code",
   "execution_count": null,
   "metadata": {},
   "outputs": [],
   "source": []
  }
 ],
 "metadata": {
  "kernelspec": {
   "display_name": "Python 3",
   "language": "python",
   "name": "python3"
  },
  "language_info": {
   "codemirror_mode": {
    "name": "ipython",
    "version": 3
   },
   "file_extension": ".py",
   "mimetype": "text/x-python",
   "name": "python",
   "nbconvert_exporter": "python",
   "pygments_lexer": "ipython3",
   "version": "3.7.5"
  }
 },
 "nbformat": 4,
 "nbformat_minor": 4
}
