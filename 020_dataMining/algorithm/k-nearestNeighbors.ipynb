{
 "cells": [
  {
   "cell_type": "markdown",
   "metadata": {},
   "source": [
    "# KNN"
   ]
  },
  {
   "cell_type": "code",
   "execution_count": 1,
   "metadata": {},
   "outputs": [],
   "source": [
    "import numpy as np\n",
    "import matplotlib.pyplot as plt"
   ]
  },
  {
   "cell_type": "code",
   "execution_count": 17,
   "metadata": {},
   "outputs": [
    {
     "data": {
      "text/plain": [
       "array([[0.60020742, 6.67323716],\n",
       "       [2.40933549, 7.54344126],\n",
       "       [7.98105779, 9.01605135],\n",
       "       [8.98675935, 9.81324499],\n",
       "       [1.57144994, 8.56528411],\n",
       "       [4.48646042, 6.40691499],\n",
       "       [0.58209008, 0.40128997],\n",
       "       [5.53694984, 5.13722094],\n",
       "       [2.46475335, 5.96115609],\n",
       "       [8.61277779, 0.8541728 ]])"
      ]
     },
     "execution_count": 17,
     "metadata": {},
     "output_type": "execute_result"
    }
   ],
   "source": [
    "data_x = np.random.random(20)*10\n",
    "raw_data_x = data_x.reshape(10,-1)\n",
    "raw_data_x"
   ]
  },
  {
   "cell_type": "code",
   "execution_count": 18,
   "metadata": {},
   "outputs": [
    {
     "data": {
      "text/plain": [
       "array([0., 0., 0., 0., 0., 1., 1., 1., 1., 1.])"
      ]
     },
     "execution_count": 18,
     "metadata": {},
     "output_type": "execute_result"
    }
   ],
   "source": [
    "data_y1 = np.zeros(5)\n",
    "data_y2 = np.ones(5)\n",
    "raw_data_y = np.append(data_y1,data_y2)\n",
    "raw_data_y"
   ]
  },
  {
   "cell_type": "code",
   "execution_count": 19,
   "metadata": {},
   "outputs": [],
   "source": [
    "x_train = raw_data_x\n",
    "y_train = raw_data_y"
   ]
  },
  {
   "cell_type": "code",
   "execution_count": 38,
   "metadata": {},
   "outputs": [
    {
     "data": {
      "text/plain": [
       "<matplotlib.collections.PathCollection at 0x1171bbcd0>"
      ]
     },
     "execution_count": 38,
     "metadata": {},
     "output_type": "execute_result"
    },
    {
     "data": {
      "image/png": "[encoded data removed]",
      "text/plain": [
       "<Figure size 432x288 with 1 Axes>"
      ]
     },
     "metadata": {
      "needs_background": "light"
     },
     "output_type": "display_data"
    }
   ],
   "source": [
    "# plt.scatter(x_train[:,:1],x_train[:,1:2])\n",
    "# x_train[y_train==0,0]\n",
    "plt.scatter(x_train[y_train==0,0],x_train[y_train==0,1],color = \"g\")\n",
    "plt.scatter(x_train[y_train==1,0],x_train[y_train==1,1],color = \"r\")"
   ]
  },
  {
   "cell_type": "code",
   "execution_count": 42,
   "metadata": {},
   "outputs": [],
   "source": [
    "x = np.array([6.09,6.36])  # 新数据"
   ]
  },
  {
   "cell_type": "code",
   "execution_count": 43,
   "metadata": {},
   "outputs": [
    {
     "data": {
      "text/plain": [
       "<matplotlib.collections.PathCollection at 0x116da70d0>"
      ]
     },
     "execution_count": 43,
     "metadata": {},
     "output_type": "execute_result"
    },
    {
     "data": {
      "image/png": "[encoded data removed]",
      "text/plain": [
       "<Figure size 432x288 with 1 Axes>"
      ]
     },
     "metadata": {
      "needs_background": "light"
     },
     "output_type": "display_data"
    }
   ],
   "source": [
    "plt.scatter(x_train[y_train==0,0],x_train[y_train==0,1],color = \"g\")\n",
    "plt.scatter(x_train[y_train==1,0],x_train[y_train==1,1],color = \"r\")\n",
    "plt.scatter(x[0],x[1],color = 'b')"
   ]
  },
  {
   "cell_type": "markdown",
   "metadata": {},
   "source": [
    "### knn"
   ]
  },
  {
   "cell_type": "code",
   "execution_count": 47,
   "metadata": {},
   "outputs": [],
   "source": [
    "from math import sqrt\n",
    "distances = []\n",
    "for x_tr in x_train: \n",
    "    d =sqrt( np.sum( (x_tr - x)**2 ))  #   ( x_tr[0] - x[0]) **2 + ( x_tr[1] - x[1]) **2\n",
    "    distances.append(d)\n",
    "    \n",
    "    "
   ]
  },
  {
   "cell_type": "code",
   "execution_count": 48,
   "metadata": {},
   "outputs": [
    {
     "data": {
      "text/plain": [
       "[5.498721673427504,\n",
       " 3.866241645434729,\n",
       " 3.2604767036096196,\n",
       " 4.507340205816598,\n",
       " 5.027978980767485,\n",
       " 1.6042257338009964,\n",
       " 8.114388265017231,\n",
       " 1.3420331991093397,\n",
       " 3.6471207495727604,\n",
       " 6.0562811142962625]"
      ]
     },
     "execution_count": 48,
     "metadata": {},
     "output_type": "execute_result"
    }
   ],
   "source": [
    "distances"
   ]
  },
  {
   "cell_type": "code",
   "execution_count": 49,
   "metadata": {},
   "outputs": [],
   "source": [
    "distances = [sqrt( np.sum( (x_tr - x)**2 )) for x_tr in x_train ] # 列表生成式"
   ]
  },
  {
   "cell_type": "code",
   "execution_count": 50,
   "metadata": {},
   "outputs": [
    {
     "data": {
      "text/plain": [
       "[5.498721673427504,\n",
       " 3.866241645434729,\n",
       " 3.2604767036096196,\n",
       " 4.507340205816598,\n",
       " 5.027978980767485,\n",
       " 1.6042257338009964,\n",
       " 8.114388265017231,\n",
       " 1.3420331991093397,\n",
       " 3.6471207495727604,\n",
       " 6.0562811142962625]"
      ]
     },
     "execution_count": 50,
     "metadata": {},
     "output_type": "execute_result"
    }
   ],
   "source": [
    "distances"
   ]
  },
  {
   "cell_type": "code",
   "execution_count": 51,
   "metadata": {},
   "outputs": [
    {
     "data": {
      "text/plain": [
       "array([7, 5, 2, 8, 1, 3, 4, 0, 9, 6])"
      ]
     },
     "execution_count": 51,
     "metadata": {},
     "output_type": "execute_result"
    }
   ],
   "source": [
    "np.argsort(distances) # 返回索引排序"
   ]
  },
  {
   "cell_type": "code",
   "execution_count": 57,
   "metadata": {},
   "outputs": [],
   "source": [
    "nearest = np.argsort(distances) #k=6 则 取前三个\n",
    "k = 3\n",
    "topK_y = [y_train[i] for i in nearest[:k]]  # 前 k 个元素的 y 值"
   ]
  },
  {
   "cell_type": "code",
   "execution_count": 58,
   "metadata": {},
   "outputs": [
    {
     "data": {
      "text/plain": [
       "[1.0, 1.0, 0.0]"
      ]
     },
     "execution_count": 58,
     "metadata": {},
     "output_type": "execute_result"
    }
   ],
   "source": [
    "topK_y"
   ]
  },
  {
   "cell_type": "code",
   "execution_count": 59,
   "metadata": {},
   "outputs": [
    {
     "data": {
      "text/plain": [
       "Counter({1.0: 2, 0.0: 1})"
      ]
     },
     "execution_count": 59,
     "metadata": {},
     "output_type": "execute_result"
    }
   ],
   "source": [
    "from collections import Counter\n",
    "Counter(topK_y) # 统计 topK_y 中 元素出现的次数"
   ]
  },
  {
   "cell_type": "code",
   "execution_count": 64,
   "metadata": {},
   "outputs": [
    {
     "data": {
      "text/plain": [
       "[(1.0, 2)]"
      ]
     },
     "execution_count": 64,
     "metadata": {},
     "output_type": "execute_result"
    }
   ],
   "source": [
    "votes = Counter(topK_y)\n",
    "votes.most_common(1) # 返回 出现次数最多的 1 个值"
   ]
  },
  {
   "cell_type": "code",
   "execution_count": 65,
   "metadata": {},
   "outputs": [
    {
     "data": {
      "text/plain": [
       "1.0"
      ]
     },
     "execution_count": 65,
     "metadata": {},
     "output_type": "execute_result"
    }
   ],
   "source": [
    "votes.most_common(1)[0][0] # list 中 第一个 ， 元组中第一个  # 即返回值是对 x[6.09,6.36] 最终预测 结果 1 "
   ]
  },
  {
   "cell_type": "code",
   "execution_count": null,
   "metadata": {},
   "outputs": [],
   "source": []
  }
 ],
 "metadata": {
  "kernelspec": {
   "display_name": "Python 3",
   "language": "python",
   "name": "python3"
  },
  "language_info": {
   "codemirror_mode": {
    "name": "ipython",
    "version": 3
   },
   "file_extension": ".py",
   "mimetype": "text/x-python",
   "name": "python",
   "nbconvert_exporter": "python",
   "pygments_lexer": "ipython3",
   "version": "3.7.4"
  }
 },
 "nbformat": 4,
 "nbformat_minor": 4
}
