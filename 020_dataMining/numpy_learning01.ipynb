{
 "cells": [
  {
   "cell_type": "markdown",
   "metadata": {},
   "source": [
    "# Numpy"
   ]
  },
  {
   "cell_type": "markdown",
   "metadata": {},
   "source": [
    "### demo01"
   ]
  },
  {
   "cell_type": "code",
   "execution_count": 2,
   "metadata": {},
   "outputs": [],
   "source": [
    "import numpy as np"
   ]
  },
  {
   "cell_type": "code",
   "execution_count": 17,
   "metadata": {},
   "outputs": [
    {
     "data": {
      "text/plain": [
       "array([[1, 2, 3],\n",
       "       [4, 7, 9]])"
      ]
     },
     "execution_count": 17,
     "metadata": {},
     "output_type": "execute_result"
    }
   ],
   "source": [
    "nd1 = np.array([[1,2,3],[4,7,9]])\n",
    "# type(nd1)\n",
    "nd1\n"
   ]
  },
  {
   "cell_type": "code",
   "execution_count": 26,
   "metadata": {},
   "outputs": [
    {
     "data": {
      "text/plain": [
       "(2, 3)"
      ]
     },
     "execution_count": 26,
     "metadata": {},
     "output_type": "execute_result"
    }
   ],
   "source": [
    "nd1.shape"
   ]
  },
  {
   "cell_type": "code",
   "execution_count": 27,
   "metadata": {},
   "outputs": [
    {
     "data": {
      "text/plain": [
       "2"
      ]
     },
     "execution_count": 27,
     "metadata": {},
     "output_type": "execute_result"
    }
   ],
   "source": [
    "nd1.ndim"
   ]
  },
  {
   "cell_type": "code",
   "execution_count": 28,
   "metadata": {},
   "outputs": [
    {
     "data": {
      "text/plain": [
       "6"
      ]
     },
     "execution_count": 28,
     "metadata": {},
     "output_type": "execute_result"
    }
   ],
   "source": [
    "nd1.size"
   ]
  },
  {
   "cell_type": "markdown",
   "metadata": {},
   "source": [
    "### demo02"
   ]
  },
  {
   "cell_type": "code",
   "execution_count": 31,
   "metadata": {},
   "outputs": [
    {
     "data": {
      "text/plain": [
       "array([[0., 0., 0., 0., 0.],\n",
       "       [0., 0., 0., 0., 0.],\n",
       "       [0., 0., 0., 0., 0.]])"
      ]
     },
     "execution_count": 31,
     "metadata": {},
     "output_type": "execute_result"
    }
   ],
   "source": [
    "nd2 = np.zeros((3,5))\n",
    "nd2"
   ]
  },
  {
   "cell_type": "code",
   "execution_count": 34,
   "metadata": {},
   "outputs": [
    {
     "data": {
      "text/plain": [
       "array([[0., 0., 0., 0., 0.],\n",
       "       [0., 0., 0., 0., 0.],\n",
       "       [0., 0., 0., 0., 0.]])"
      ]
     },
     "execution_count": 34,
     "metadata": {},
     "output_type": "execute_result"
    }
   ],
   "source": [
    "# nd3= np.array(nd2) \n",
    "# nd3= np.asarray(nd2) #浅拷贝\n",
    "nd3= np.copy(nd2) # deep copy\n",
    "\n",
    "nd3"
   ]
  },
  {
   "cell_type": "code",
   "execution_count": 48,
   "metadata": {},
   "outputs": [
    {
     "data": {
      "text/plain": [
       "array([ 0. ,  2.5,  5. ,  7.5, 10. ])"
      ]
     },
     "execution_count": 48,
     "metadata": {},
     "output_type": "execute_result"
    }
   ],
   "source": [
    "nd4 = np.linspace(0,10,5)\n",
    "nd4"
   ]
  },
  {
   "cell_type": "code",
   "execution_count": 51,
   "metadata": {},
   "outputs": [
    {
     "data": {
      "text/plain": [
       "array([0.24563117, 0.32837148, 0.42388679, 0.06426151, 0.43420228,\n",
       "       0.75335767, 0.33699309, 0.09327397, 0.25748932, 0.583623  ])"
      ]
     },
     "execution_count": 51,
     "metadata": {},
     "output_type": "execute_result"
    }
   ],
   "source": [
    "nd5 = np.random.uniform(0,1,10)\n",
    "nd5"
   ]
  },
  {
   "cell_type": "code",
   "execution_count": 54,
   "metadata": {},
   "outputs": [
    {
     "data": {
      "text/plain": [
       "array([1.64505472, 1.71229526, 1.79068536, 1.52440934, 1.78713449,\n",
       "       1.60841797, 1.80712711, 1.65438615, 1.78278823, 1.66829422,\n",
       "       1.76685133, 1.88444055, 1.79398611, 1.72235016, 1.91272144,\n",
       "       1.66229193, 1.75508531, 1.7246013 , 1.62083178, 1.90204526,\n",
       "       1.65597399, 1.81047801, 1.75488914, 1.71685679, 1.87907821,\n",
       "       1.76971296, 1.72202189, 1.73895595, 1.82790056, 1.64129344,\n",
       "       1.76213238, 1.58195987, 1.8068753 , 1.87874668, 1.79768348,\n",
       "       1.79221299, 1.93926555, 1.81935189, 1.74779059, 1.93341856,\n",
       "       1.86113024, 1.65962229, 1.89850027, 1.75015359, 1.87341044,\n",
       "       1.65686411, 1.83349306, 1.65835674, 1.84283068, 1.56049812,\n",
       "       1.80492055, 1.82851213, 1.72953152, 1.51307631, 1.66646813,\n",
       "       1.75030791, 1.84350315, 1.71867165, 1.77788996, 1.5801986 ,\n",
       "       1.90457183, 1.86811853, 1.93675449, 1.74103489, 1.74778789,\n",
       "       1.68066979, 1.660053  , 1.76949951, 1.83335323, 1.76120789,\n",
       "       1.64039482, 1.72422076, 1.83831923, 1.70285501, 1.8737962 ,\n",
       "       1.74328985, 1.68367456, 1.75546605, 1.78851136, 1.81901706,\n",
       "       1.85902235, 1.84194019, 1.73878474, 1.64438082, 1.84703115,\n",
       "       1.77024611, 1.70735313, 1.71705741, 1.69279086, 1.73200762,\n",
       "       1.75060198, 1.62045118, 1.58943838, 1.65846263, 1.72647306,\n",
       "       1.58889282, 1.76193306, 1.68317087, 1.65624443, 1.66208348])"
      ]
     },
     "execution_count": 54,
     "metadata": {},
     "output_type": "execute_result"
    }
   ],
   "source": [
    "nd6 = np.random.normal(loc=1.75,scale=0.1,size=100)\n",
    "nd6"
   ]
  },
  {
   "cell_type": "markdown",
   "metadata": {},
   "source": [
    "### demo04"
   ]
  },
  {
   "cell_type": "code",
   "execution_count": 55,
   "metadata": {},
   "outputs": [
    {
     "data": {
      "text/plain": [
       "array([[[ 1,  2,  3],\n",
       "        [ 4,  5,  6]],\n",
       "\n",
       "       [[11, 22, 33],\n",
       "        [44, 55, 66]]])"
      ]
     },
     "execution_count": 55,
     "metadata": {},
     "output_type": "execute_result"
    }
   ],
   "source": [
    "nd4 = np.array([ [[1,2,3],[4,5,6]],[[11,22,33],[44,55,66]] ])\n",
    "nd4"
   ]
  },
  {
   "cell_type": "code",
   "execution_count": 56,
   "metadata": {},
   "outputs": [
    {
     "data": {
      "text/plain": [
       "33"
      ]
     },
     "execution_count": 56,
     "metadata": {},
     "output_type": "execute_result"
    }
   ],
   "source": [
    "nd4[1,0,2]"
   ]
  },
  {
   "cell_type": "code",
   "execution_count": 57,
   "metadata": {},
   "outputs": [
    {
     "data": {
      "text/plain": [
       "array([[ 1,  2,  3,  4],\n",
       "       [ 5,  6, 11, 22],\n",
       "       [33, 44, 55, 66]])"
      ]
     },
     "execution_count": 57,
     "metadata": {},
     "output_type": "execute_result"
    }
   ],
   "source": [
    "nd4.reshape(3,4)"
   ]
  },
  {
   "cell_type": "code",
   "execution_count": 58,
   "metadata": {},
   "outputs": [
    {
     "data": {
      "text/plain": [
       "array([[[ 1, 11],\n",
       "        [ 4, 44]],\n",
       "\n",
       "       [[ 2, 22],\n",
       "        [ 5, 55]],\n",
       "\n",
       "       [[ 3, 33],\n",
       "        [ 6, 66]]])"
      ]
     },
     "execution_count": 58,
     "metadata": {},
     "output_type": "execute_result"
    }
   ],
   "source": [
    "nd4.T"
   ]
  },
  {
   "cell_type": "code",
   "execution_count": 59,
   "metadata": {},
   "outputs": [
    {
     "data": {
      "text/plain": [
       "b'\\x01\\x00\\x00\\x00\\x00\\x00\\x00\\x00\\x02\\x00\\x00\\x00\\x00\\x00\\x00\\x00\\x03\\x00\\x00\\x00\\x00\\x00\\x00\\x00\\x04\\x00\\x00\\x00\\x00\\x00\\x00\\x00\\x05\\x00\\x00\\x00\\x00\\x00\\x00\\x00\\x06\\x00\\x00\\x00\\x00\\x00\\x00\\x00\\x0b\\x00\\x00\\x00\\x00\\x00\\x00\\x00\\x16\\x00\\x00\\x00\\x00\\x00\\x00\\x00!\\x00\\x00\\x00\\x00\\x00\\x00\\x00,\\x00\\x00\\x00\\x00\\x00\\x00\\x007\\x00\\x00\\x00\\x00\\x00\\x00\\x00B\\x00\\x00\\x00\\x00\\x00\\x00\\x00'"
      ]
     },
     "execution_count": 59,
     "metadata": {},
     "output_type": "execute_result"
    }
   ],
   "source": [
    "nd4.tostring()"
   ]
  },
  {
   "cell_type": "code",
   "execution_count": 61,
   "metadata": {},
   "outputs": [
    {
     "data": {
      "text/plain": [
       "{1, 2, 3, 4, 5, 6, 11, 22, 33, 44, 55, 66}"
      ]
     },
     "execution_count": 61,
     "metadata": {},
     "output_type": "execute_result"
    }
   ],
   "source": [
    "np.unique(nd4)\n",
    "# set(nd4.flatten())"
   ]
  },
  {
   "cell_type": "markdown",
   "metadata": {},
   "source": [
    "### demo05"
   ]
  },
  {
   "cell_type": "code",
   "execution_count": 63,
   "metadata": {},
   "outputs": [
    {
     "data": {
      "text/plain": [
       "array([[ 0.83501535, -0.64113151,  1.43574861, -0.14139947,  0.51987739,\n",
       "        -0.69143298, -0.56806751,  0.11740374,  1.47010204, -0.32684315],\n",
       "       [ 0.13845926, -0.83129336, -1.11193708, -0.70652275,  0.52717692,\n",
       "        -0.84182601,  1.57024937, -0.52781815, -0.72295138, -0.48601027],\n",
       "       [-0.91808671,  0.99345867,  0.25232358, -0.19711787, -0.55285595,\n",
       "        -2.91988456,  0.34386228, -1.28633459, -0.52623173,  0.75680943],\n",
       "       [-1.16639172, -0.13852432,  0.33744558, -1.27758365, -0.98310101,\n",
       "         0.25702449,  0.70294757, -0.25221974,  1.47229622,  0.81751858],\n",
       "       [ 0.22925516,  0.50746933, -1.92229033, -2.34824276, -1.5413246 ,\n",
       "        -2.01522025, -0.68944674, -0.56091848, -0.27995292,  0.95647863],\n",
       "       [ 0.69097597,  1.0972573 ,  0.37645817,  1.43733879, -0.53411433,\n",
       "        -1.52787366, -0.83610718,  0.16244525, -0.82410423,  0.02958921],\n",
       "       [-1.97517243, -0.59993539,  1.39754225,  0.33474562,  0.40015953,\n",
       "         0.72546435, -0.20634789, -0.83533213,  2.24079385, -1.62838276],\n",
       "       [-0.14881165, -1.26770845, -0.02563125,  1.73347849, -0.01133042,\n",
       "        -0.31972852, -0.38835914, -0.42745591, -1.2252324 ,  0.55498455]])"
      ]
     },
     "execution_count": 63,
     "metadata": {},
     "output_type": "execute_result"
    }
   ],
   "source": [
    "nd5 = np.random.normal(loc=0,scale=1,size=(8,10))\n",
    "nd5"
   ]
  },
  {
   "cell_type": "code",
   "execution_count": null,
   "metadata": {},
   "outputs": [],
   "source": []
  }
 ],
 "metadata": {
  "kernelspec": {
   "display_name": "Python 3",
   "language": "python",
   "name": "python3"
  },
  "language_info": {
   "codemirror_mode": {
    "name": "ipython",
    "version": 3
   },
   "file_extension": ".py",
   "mimetype": "text/x-python",
   "name": "python",
   "nbconvert_exporter": "python",
   "pygments_lexer": "ipython3",
   "version": "3.7.4"
  }
 },
 "nbformat": 4,
 "nbformat_minor": 4
}
